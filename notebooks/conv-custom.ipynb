{
 "cells": [
  {
   "cell_type": "code",
   "execution_count": 4,
   "id": "63319ffa",
   "metadata": {},
   "outputs": [],
   "source": [
    "import numpy\n",
    "import requests\n",
    "import gzip\n",
    "import os\n",
    "import hashlib\n",
    "import math"
   ]
  },
  {
   "cell_type": "code",
   "execution_count": 5,
   "id": "78618286",
   "metadata": {},
   "outputs": [],
   "source": [
    "def Fetch(url, path):\n",
    "    if not os.path.exists(path):\n",
    "        os.makedirs(path)\n",
    "\n",
    "    f_path = os.path.join(path, hashlib.md5(url.encode('utf-8')).hexdigest())\n",
    "\n",
    "    if os.path.isfile(f_path):\n",
    "        with open(f_path, \"rb\") as f:\n",
    "            data = f.read()\n",
    "\n",
    "    else:\n",
    "        with open(f_path, \"wb\") as f:\n",
    "            data = requests.get(url).content\n",
    "            f.write(data)\n",
    "\n",
    "    return numpy.frombuffer(gzip.decompress(data), dtype=numpy.uint8).copy()\n",
    "\n",
    "def GetNumpy():\n",
    "    X_train = Fetch(\"http://yann.lecun.com/exdb/mnist/train-images-idx3-ubyte.gz\", \"../dataset/mnist/\")[0x10:].reshape((-1, 28, 28))\n",
    "    Y_train = Fetch(\"http://yann.lecun.com/exdb/mnist/train-labels-idx1-ubyte.gz\", \"../dataset/mnist/\")[0x8:]\n",
    "    X_test  = Fetch(\"http://yann.lecun.com/exdb/mnist/t10k-images-idx3-ubyte.gz\", \"../dataset/mnist/\")[0x10:].reshape((-1, 28, 28))\n",
    "    Y_test  = Fetch(\"http://yann.lecun.com/exdb/mnist/t10k-labels-idx1-ubyte.gz\", \"../dataset/mnist/\")[0x8:]\n",
    "    return X_train, Y_train, X_test, Y_test"
   ]
  },
  {
   "cell_type": "code",
   "execution_count": 6,
   "id": "9e155a2c",
   "metadata": {},
   "outputs": [],
   "source": [
    "def Xavier(weights, nodes):\n",
    "    arg = 1 / math.sqrt(weights * nodes)\n",
    "    w = numpy.random.uniform(-arg, arg, (weights, nodes))\n",
    "    b = numpy.zeros((1, nodes))\n",
    "    return w, b\n",
    "\n",
    "def GetFans(shape):\n",
    "    fanIn = shape[0] if len(shape) == 2 else np.prod(shape[1:])\n",
    "    fanOut = shape[1] if len(shape) == 2 else shape[0]\n",
    "    return fanIn, fanOut"
   ]
  },
  {
   "cell_type": "code",
   "execution_count": 31,
   "id": "3df2ab3c",
   "metadata": {},
   "outputs": [],
   "source": [
    "X_train, Y_train, X_test, Y_test = GetNumpy()\n",
    "sample = X_train[0:32]\n",
    "\n",
    "Y_batch = numpy.zeros((32, 10), numpy.float64)\n",
    "Y_batch[range(Y_batch.shape[0]), Y_train[0:32]] = 1\n",
    "\n",
    "ALPHA = 0.0025"
   ]
  },
  {
   "cell_type": "markdown",
   "id": "f85edf5f",
   "metadata": {},
   "source": [
    "### Convolutional layer\n",
    "TODO: automate padding"
   ]
  },
  {
   "cell_type": "code",
   "execution_count": 32,
   "id": "960fec10",
   "metadata": {},
   "outputs": [],
   "source": [
    "kernelShape = (32, 3, 3)\n",
    "\n",
    "fanIn, fanOut = GetFans(kernelShape[1:])\n",
    "limit = numpy.sqrt(6. / (fanIn + fanOut))\n",
    "kernel = numpy.random.uniform(-limit, limit, kernelShape)\n",
    "\n",
    "padding = (1, 1)\n",
    "stride = 1\n",
    "\n",
    "if (padding):\n",
    "    padded = numpy.zeros((sample.shape[0], sample.shape[1] + 2*padding[0], sample.shape[2] + 2*padding[1]))\n",
    "    padded[:, padding[0]:sample.shape[1]+padding[0], padding[1]:sample.shape[2]+padding[1]] = sample\n",
    "else:\n",
    "    padded = sample\n",
    "\n",
    "conv2d1 = numpy.zeros((\n",
    "    sample.shape[0] * kernel.shape[0],\n",
    "    int(((sample.shape[1] - kernel.shape[1] + 2 * padding[0]) / stride) + 1),\n",
    "    int(((sample.shape[2] - kernel.shape[2] + 2 * padding[1]) / stride) + 1)\n",
    "))\n",
    "\n",
    "for i in range(padded.shape[0]):\n",
    "    for x in range(conv2d1.shape[1]):\n",
    "        for y in range(conv2d1.shape[2]):\n",
    "            mul = padded[i, x:x+kernel.shape[1], y:y+kernel.shape[2]] * kernel\n",
    "            conv2d1[i*kernel.shape[0]:(i+1)*kernel.shape[0], x, y] = numpy.sum(mul, axis=(1, 2))"
   ]
  },
  {
   "cell_type": "code",
   "execution_count": 33,
   "id": "7cd5d9be",
   "metadata": {},
   "outputs": [],
   "source": [
    "act1 = numpy.maximum(0, conv2d1)"
   ]
  },
  {
   "cell_type": "markdown",
   "id": "9be5eb10",
   "metadata": {},
   "source": [
    "### Pooling\n",
    "Average"
   ]
  },
  {
   "cell_type": "code",
   "execution_count": 34,
   "id": "618b690d",
   "metadata": {},
   "outputs": [],
   "source": [
    "pool1shape = (2, 2)\n",
    "\n",
    "pool1 = numpy.zeros((act1.shape[0], int(act1.shape[1] / pool1shape[0]), int(act1.shape[2] / pool1shape[1])))\n",
    "\n",
    "for x in range(pool1.shape[1]):\n",
    "    for y in range(pool1.shape[2]):\n",
    "        pool1[:, x, y] = numpy.max(act1[:,x*pool1shape[0]:(x+1)*pool1shape[0],y*pool1shape[1]:(y+1)*pool1shape[1]], axis=(1, 2))"
   ]
  },
  {
   "cell_type": "code",
   "execution_count": 35,
   "id": "1045072b",
   "metadata": {},
   "outputs": [],
   "source": [
    "kernelShape2 = (64, 3, 3)\n",
    "fanIn2, fanOut2 = GetFans(kernelShape2[1:])\n",
    "limit2 = numpy.sqrt(6. / (fanIn2 + fanOut2))\n",
    "kernel2 = numpy.random.uniform(-limit, limit, kernelShape2)\n",
    "\n",
    "padding2 = (1, 1)\n",
    "stride2 = 1\n",
    "\n",
    "if (padding2):\n",
    "    padded2 = numpy.zeros((pool1.shape[0], pool1.shape[1] + 2*padding2[0], pool1.shape[2] + 2*padding2[1]))\n",
    "    padded2[:, padding2[0]:pool1.shape[1]+padding2[0], padding2[1]:pool1.shape[2]+padding2[1]] = pool1\n",
    "else:\n",
    "    padded2 = pool1\n",
    "\n",
    "conv2d2 = numpy.zeros((\n",
    "    pool1.shape[0] * kernel2.shape[0],\n",
    "    int(((pool1.shape[1] - kernel2.shape[1] + 2 * padding2[0]) / stride2) + 1),\n",
    "    int(((pool1.shape[2] - kernel2.shape[2] + 2 * padding2[1]) / stride2) + 1)\n",
    "))\n",
    "\n",
    "for i in range(pool1.shape[0]):\n",
    "    for x in range(conv2d2.shape[1]):\n",
    "        for y in range(conv2d2.shape[2]):\n",
    "            mul2 = padded2[i, x:x+kernel2.shape[1], y:y+kernel2.shape[2]] * kernel2\n",
    "            conv2d2[i*kernel2.shape[0]:(i+1)*kernel2.shape[0], x, y] = numpy.sum(mul2, axis=(1, 2))"
   ]
  },
  {
   "cell_type": "code",
   "execution_count": 36,
   "id": "a341ab90",
   "metadata": {},
   "outputs": [],
   "source": [
    "act2 = numpy.maximum(0, conv2d2)"
   ]
  },
  {
   "cell_type": "code",
   "execution_count": 37,
   "id": "590a3233",
   "metadata": {},
   "outputs": [],
   "source": [
    "pool2shape = (2, 2)\n",
    "\n",
    "pool2 = numpy.zeros((act2.shape[0], int(act2.shape[1] / pool2shape[0]), int(act2.shape[2] / pool2shape[1])))\n",
    "\n",
    "for x in range(pool2.shape[1]):\n",
    "    for y in range(pool2.shape[2]):\n",
    "        pool2[:, x, y] = numpy.max(act2[:,x*pool2shape[0]:(x+1)*pool2shape[0],y*pool2shape[1]:(y+1)*pool2shape[1]], axis=(1, 2))"
   ]
  },
  {
   "cell_type": "markdown",
   "id": "2fb3345b",
   "metadata": {},
   "source": [
    "### Flatten"
   ]
  },
  {
   "cell_type": "code",
   "execution_count": 38,
   "id": "980ddaa3",
   "metadata": {},
   "outputs": [
    {
     "name": "stdout",
     "output_type": "stream",
     "text": [
      "(65536, 49)\n",
      "(32, 100352)\n"
     ]
    }
   ],
   "source": [
    "flatten = pool2.reshape(pool2.shape[0],pool2.shape[1]*pool2.shape[2])\n",
    "print(flatten.shape)\n",
    "\n",
    "flattenTest = flatten.reshape(int(flatten.shape[0] / (32*64)), pool2.shape[1]*pool2.shape[2]*(32*64))\n",
    "print(flattenTest.shape)"
   ]
  },
  {
   "cell_type": "code",
   "execution_count": 39,
   "id": "042ab74b",
   "metadata": {
    "scrolled": true
   },
   "outputs": [
    {
     "name": "stdout",
     "output_type": "stream",
     "text": [
      "(32, 10)\n"
     ]
    }
   ],
   "source": [
    "w, b = Xavier(flattenTest.shape[1], 10)\n",
    "\n",
    "dot = flattenTest @ w\n",
    "som = dot + b\n",
    "act = 1 / (numpy.exp(-som) + 1)\n",
    "\n",
    "print(act.shape)"
   ]
  },
  {
   "cell_type": "code",
   "execution_count": 47,
   "id": "5b687727",
   "metadata": {},
   "outputs": [],
   "source": [
    "de_dact = (2 * (act - Y_batch)) / act.shape[0]\n",
    "\n",
    "dact_dsum = numpy.exp(-som) / ((numpy.exp(-som) + 1) ** 2)\n",
    "de_dsum = de_dact * dact_dsum\n",
    "\n",
    "dsum_db = numpy.ones(b.shape)\n",
    "de_db = de_dsum * dsum_db\n",
    "\n",
    "dsum_ddot = numpy.ones(dot.shape)\n",
    "de_ddot = de_dsum * dsum_ddot\n",
    "\n",
    "ddot_dw = flattenTest\n",
    "de_dw = de_ddot.T @ ddot_dw"
   ]
  },
  {
   "cell_type": "code",
   "execution_count": 48,
   "id": "9774c539",
   "metadata": {},
   "outputs": [
    {
     "name": "stdout",
     "output_type": "stream",
     "text": [
      "(32, 10)\n",
      "(100352, 10)\n"
     ]
    },
    {
     "ename": "ValueError",
     "evalue": "operands could not be broadcast together with shapes (65536,7,7) (65536,14,14) ",
     "output_type": "error",
     "traceback": [
      "\u001b[1;31m---------------------------------------------------------------------------\u001b[0m",
      "\u001b[1;31mValueError\u001b[0m                                Traceback (most recent call last)",
      "Input \u001b[1;32mIn [48]\u001b[0m, in \u001b[0;36m<cell line: 13>\u001b[1;34m()\u001b[0m\n\u001b[0;32m     11\u001b[0m de_dact2 \u001b[38;5;241m=\u001b[39m de_dflattenTest\u001b[38;5;241m.\u001b[39mreshape(pool2\u001b[38;5;241m.\u001b[39mshape)\n\u001b[0;32m     12\u001b[0m dact2_dconv2d2 \u001b[38;5;241m=\u001b[39m \u001b[38;5;241m1\u001b[39m \u001b[38;5;241m*\u001b[39m (conv2d2 \u001b[38;5;241m>\u001b[39m \u001b[38;5;241m0\u001b[39m)\n\u001b[1;32m---> 13\u001b[0m de_dconv2d2 \u001b[38;5;241m=\u001b[39m \u001b[43mde_dact2\u001b[49m\u001b[43m \u001b[49m\u001b[38;5;241;43m*\u001b[39;49m\u001b[43m \u001b[49m\u001b[43mdact2_dconv2d2\u001b[49m\n",
      "\u001b[1;31mValueError\u001b[0m: operands could not be broadcast together with shapes (65536,7,7) (65536,14,14) "
     ]
    }
   ],
   "source": [
    "ddot_dflattenTest = w\n",
    "\n",
    "print(de_ddot.shape)\n",
    "print(ddot_dflattenTest.shape)\n",
    "\n",
    "de_dflattenTest = de_ddot @ ddot_dflattenTest.T\n",
    "de_dflattenTest = de_dflattenTest.reshape(flatten.shape)\n",
    "\n",
    "# skipping max pooling layer\n",
    "\n",
    "de_dact2 = de_dflattenTest.reshape(pool2.shape)\n",
    "dact2_dconv2d2 = 1 * (conv2d2 > 0)\n",
    "de_dconv2d2 = de_dact2 * dact2_dconv2d2\n",
    "\n"
   ]
  },
  {
   "cell_type": "code",
   "execution_count": 46,
   "id": "b65c6824",
   "metadata": {},
   "outputs": [],
   "source": [
    "\n",
    "b -= (numpy.sum(de_db) * ALPHA)\n",
    "w -= (de_dw.T * ALPHA)"
   ]
  },
  {
   "cell_type": "code",
   "execution_count": null,
   "id": "63e5aeee",
   "metadata": {},
   "outputs": [],
   "source": []
  }
 ],
 "metadata": {
  "kernelspec": {
   "display_name": "Python 3 (ipykernel)",
   "language": "python",
   "name": "python3"
  },
  "language_info": {
   "codemirror_mode": {
    "name": "ipython",
    "version": 3
   },
   "file_extension": ".py",
   "mimetype": "text/x-python",
   "name": "python",
   "nbconvert_exporter": "python",
   "pygments_lexer": "ipython3",
   "version": "3.10.4"
  }
 },
 "nbformat": 4,
 "nbformat_minor": 5
}
