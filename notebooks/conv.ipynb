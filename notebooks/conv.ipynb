{
 "cells": [
  {
   "cell_type": "code",
   "execution_count": 1,
   "id": "0ee98d60",
   "metadata": {},
   "outputs": [],
   "source": [
    "import numpy\n",
    "from tensorflow import keras\n",
    "from tensorflow.keras import layers"
   ]
  },
  {
   "cell_type": "code",
   "execution_count": 2,
   "id": "39aba90a",
   "metadata": {},
   "outputs": [],
   "source": [
    "num_classes = 10\n",
    "input_shape = (28, 28, 1)"
   ]
  },
  {
   "cell_type": "code",
   "execution_count": 3,
   "id": "0b49f6d5",
   "metadata": {},
   "outputs": [
    {
     "name": "stdout",
     "output_type": "stream",
     "text": [
      "x_train shape: (60000, 28, 28, 1)\n",
      "60000 train samples\n",
      "10000 test samples\n"
     ]
    }
   ],
   "source": [
    "(x_train, y_train), (x_test, y_test) = keras.datasets.mnist.load_data()\n",
    "\n",
    "x_train = x_train.astype(\"float32\") / 255\n",
    "x_test = x_test.astype(\"float32\") / 255\n",
    "\n",
    "x_train = numpy.expand_dims(x_train, -1)\n",
    "x_test = numpy.expand_dims(x_test, -1)\n",
    "print(\"x_train shape:\", x_train.shape)\n",
    "print(x_train.shape[0], \"train samples\")\n",
    "print(x_test.shape[0], \"test samples\")"
   ]
  },
  {
   "cell_type": "code",
   "execution_count": 4,
   "id": "2b8a74a0",
   "metadata": {},
   "outputs": [
    {
     "name": "stdout",
     "output_type": "stream",
     "text": [
      "7\n"
     ]
    }
   ],
   "source": [
    "print(y_test[0])"
   ]
  },
  {
   "cell_type": "code",
   "execution_count": 5,
   "id": "a06b820f",
   "metadata": {},
   "outputs": [],
   "source": [
    "y_train = keras.utils.to_categorical(y_train, num_classes)\n",
    "y_test = keras.utils.to_categorical(y_test, num_classes)"
   ]
  },
  {
   "cell_type": "code",
   "execution_count": 6,
   "id": "4e478482",
   "metadata": {},
   "outputs": [
    {
     "name": "stdout",
     "output_type": "stream",
     "text": [
      "[0. 0. 0. 0. 0. 0. 0. 1. 0. 0.]\n"
     ]
    }
   ],
   "source": [
    "print(y_test[0])"
   ]
  },
  {
   "cell_type": "code",
   "execution_count": 7,
   "id": "c2bea1e4",
   "metadata": {},
   "outputs": [
    {
     "name": "stdout",
     "output_type": "stream",
     "text": [
      "Model: \"sequential\"\n",
      "_________________________________________________________________\n",
      " Layer (type)                Output Shape              Param #   \n",
      "=================================================================\n",
      " conv2d (Conv2D)             (None, 26, 26, 32)        320       \n",
      "                                                                 \n",
      " max_pooling2d (MaxPooling2D  (None, 13, 13, 32)       0         \n",
      " )                                                               \n",
      "                                                                 \n",
      " conv2d_1 (Conv2D)           (None, 11, 11, 64)        18496     \n",
      "                                                                 \n",
      " max_pooling2d_1 (MaxPooling  (None, 5, 5, 64)         0         \n",
      " 2D)                                                             \n",
      "                                                                 \n",
      " flatten (Flatten)           (None, 1600)              0         \n",
      "                                                                 \n",
      " dropout (Dropout)           (None, 1600)              0         \n",
      "                                                                 \n",
      " dense (Dense)               (None, 10)                16010     \n",
      "                                                                 \n",
      "=================================================================\n",
      "Total params: 34,826\n",
      "Trainable params: 34,826\n",
      "Non-trainable params: 0\n",
      "_________________________________________________________________\n",
      "Epoch 1/15\n",
      "422/422 [==============================] - 4s 6ms/step - loss: 0.3628 - accuracy: 0.8936 - val_loss: 0.0792 - val_accuracy: 0.9773\n",
      "Epoch 2/15\n",
      "422/422 [==============================] - 2s 5ms/step - loss: 0.1116 - accuracy: 0.9661 - val_loss: 0.0574 - val_accuracy: 0.9843\n",
      "Epoch 3/15\n",
      "422/422 [==============================] - 2s 5ms/step - loss: 0.0838 - accuracy: 0.9745 - val_loss: 0.0515 - val_accuracy: 0.9865\n",
      "Epoch 4/15\n",
      "422/422 [==============================] - 2s 5ms/step - loss: 0.0692 - accuracy: 0.9782 - val_loss: 0.0398 - val_accuracy: 0.9892\n",
      "Epoch 5/15\n",
      "422/422 [==============================] - 2s 5ms/step - loss: 0.0600 - accuracy: 0.9816 - val_loss: 0.0369 - val_accuracy: 0.9892\n",
      "Epoch 6/15\n",
      "422/422 [==============================] - 2s 5ms/step - loss: 0.0548 - accuracy: 0.9830 - val_loss: 0.0365 - val_accuracy: 0.9890\n",
      "Epoch 7/15\n",
      "422/422 [==============================] - 2s 5ms/step - loss: 0.0507 - accuracy: 0.9838 - val_loss: 0.0317 - val_accuracy: 0.9907\n",
      "Epoch 8/15\n",
      "422/422 [==============================] - 2s 5ms/step - loss: 0.0466 - accuracy: 0.9851 - val_loss: 0.0343 - val_accuracy: 0.9905\n",
      "Epoch 9/15\n",
      "422/422 [==============================] - 2s 5ms/step - loss: 0.0423 - accuracy: 0.9866 - val_loss: 0.0310 - val_accuracy: 0.9928\n",
      "Epoch 10/15\n",
      "422/422 [==============================] - 3s 7ms/step - loss: 0.0421 - accuracy: 0.9863 - val_loss: 0.0311 - val_accuracy: 0.9920\n",
      "Epoch 11/15\n",
      "422/422 [==============================] - 2s 6ms/step - loss: 0.0401 - accuracy: 0.9870 - val_loss: 0.0301 - val_accuracy: 0.9923\n",
      "Epoch 12/15\n",
      "422/422 [==============================] - 2s 5ms/step - loss: 0.0381 - accuracy: 0.9883 - val_loss: 0.0287 - val_accuracy: 0.9913\n",
      "Epoch 13/15\n",
      "422/422 [==============================] - 2s 5ms/step - loss: 0.0357 - accuracy: 0.9889 - val_loss: 0.0295 - val_accuracy: 0.9923\n",
      "Epoch 14/15\n",
      "422/422 [==============================] - 2s 5ms/step - loss: 0.0348 - accuracy: 0.9890 - val_loss: 0.0298 - val_accuracy: 0.9917\n",
      "Epoch 15/15\n",
      "422/422 [==============================] - 2s 5ms/step - loss: 0.0327 - accuracy: 0.9891 - val_loss: 0.0305 - val_accuracy: 0.9923\n",
      "Test loss: 0.025531545281410217\n",
      "Test accuracy: 0.9912999868392944\n"
     ]
    }
   ],
   "source": [
    "model = keras.Sequential(\n",
    "    [\n",
    "        keras.Input(shape=input_shape),\n",
    "        layers.Conv2D(32, kernel_size=(3, 3), activation=\"relu\"),\n",
    "        layers.MaxPooling2D(pool_size=(2, 2)),\n",
    "        layers.Conv2D(64, kernel_size=(3, 3), activation=\"relu\"),\n",
    "        layers.MaxPooling2D(pool_size=(2, 2)),\n",
    "        layers.Flatten(),\n",
    "        layers.Dropout(0.5),\n",
    "        layers.Dense(num_classes, activation=\"softmax\")\n",
    "    ]\n",
    ")\n",
    "\n",
    "model.summary()\n",
    "\n",
    "batch_size = 128\n",
    "epochs = 15\n",
    "\n",
    "model.compile(loss=\"categorical_crossentropy\", optimizer=\"adam\", metrics=[\"accuracy\"])\n",
    "\n",
    "model.fit(x_train, y_train, batch_size=batch_size, epochs=epochs, validation_split=0.1)\n",
    "\n",
    "score = model.evaluate(x_test, y_test, verbose=0)\n",
    "print(\"Test loss:\", score[0])\n",
    "print(\"Test accuracy:\", score[1])"
   ]
  }
 ],
 "metadata": {
  "kernelspec": {
   "display_name": "Python 3 (ipykernel)",
   "language": "python",
   "name": "python3"
  },
  "language_info": {
   "codemirror_mode": {
    "name": "ipython",
    "version": 3
   },
   "file_extension": ".py",
   "mimetype": "text/x-python",
   "name": "python",
   "nbconvert_exporter": "python",
   "pygments_lexer": "ipython3",
   "version": "3.10.4"
  }
 },
 "nbformat": 4,
 "nbformat_minor": 5
}
