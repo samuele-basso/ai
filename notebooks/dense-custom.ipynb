{
 "cells": [
  {
   "cell_type": "code",
   "execution_count": 12,
   "id": "8af9330f",
   "metadata": {},
   "outputs": [],
   "source": [
    "import numpy\n",
    "import requests\n",
    "import gzip\n",
    "import os\n",
    "import hashlib\n",
    "import math"
   ]
  },
  {
   "cell_type": "code",
   "execution_count": 13,
   "id": "96de52da",
   "metadata": {},
   "outputs": [],
   "source": [
    "DEBUG = True"
   ]
  },
  {
   "cell_type": "code",
   "execution_count": 14,
   "id": "b4420d48",
   "metadata": {},
   "outputs": [],
   "source": [
    "def Fetch(url, path):\n",
    "    if not os.path.exists(path):\n",
    "        os.makedirs(path)\n",
    "\n",
    "    f_path = os.path.join(path, hashlib.md5(url.encode('utf-8')).hexdigest())\n",
    "\n",
    "    if os.path.isfile(f_path):\n",
    "        with open(f_path, \"rb\") as f:\n",
    "            data = f.read()\n",
    "\n",
    "    else:\n",
    "        with open(f_path, \"wb\") as f:\n",
    "            data = requests.get(url).content\n",
    "            f.write(data)\n",
    "\n",
    "    return numpy.frombuffer(gzip.decompress(data), dtype=numpy.uint8).copy()\n",
    "\n",
    "def GetNumpy():\n",
    "    X_train = Fetch(\"http://yann.lecun.com/exdb/mnist/train-images-idx3-ubyte.gz\", \"../dataset/mnist/\")[0x10:].reshape((-1, 28, 28))\n",
    "    Y_train = Fetch(\"http://yann.lecun.com/exdb/mnist/train-labels-idx1-ubyte.gz\", \"../dataset/mnist/\")[0x8:]\n",
    "    X_test  = Fetch(\"http://yann.lecun.com/exdb/mnist/t10k-images-idx3-ubyte.gz\", \"../dataset/mnist/\")[0x10:].reshape((-1, 28, 28))\n",
    "    Y_test  = Fetch(\"http://yann.lecun.com/exdb/mnist/t10k-labels-idx1-ubyte.gz\", \"../dataset/mnist/\")[0x8:]\n",
    "    return X_train, Y_train, X_test, Y_test"
   ]
  },
  {
   "cell_type": "code",
   "execution_count": 15,
   "id": "5eeb4021",
   "metadata": {},
   "outputs": [],
   "source": [
    "def Xavier(weights, nodes):\n",
    "    arg = 1 / math.sqrt(weights * nodes)\n",
    "    w = numpy.random.uniform(-arg, arg, (weights, nodes))\n",
    "    b = numpy.zeros((1, nodes))\n",
    "    return w, b"
   ]
  },
  {
   "cell_type": "code",
   "execution_count": 16,
   "id": "c7455583",
   "metadata": {},
   "outputs": [],
   "source": [
    "X_train, Y_train, X_test, Y_test = GetNumpy()\n",
    "\n",
    "ALPHA = 0.0025\n",
    "EPOCHS = 10000\n",
    "BATCH = 20"
   ]
  },
  {
   "cell_type": "code",
   "execution_count": 17,
   "id": "1e02e844",
   "metadata": {},
   "outputs": [],
   "source": [
    "X_train = X_train.reshape((-1, 28*28))"
   ]
  },
  {
   "cell_type": "code",
   "execution_count": 18,
   "id": "6de2d5de",
   "metadata": {},
   "outputs": [],
   "source": [
    "w1, b1 = Xavier(28*28, 100)\n",
    "w2, b2 = Xavier(100, 10)"
   ]
  },
  {
   "cell_type": "code",
   "execution_count": 19,
   "id": "e8ef684b",
   "metadata": {},
   "outputs": [],
   "source": [
    "for i in range(EPOCHS):\n",
    "    sample = numpy.random.randint(0, X_train.shape[0], size = (BATCH))\n",
    "\n",
    "    Y_batch = numpy.zeros((BATCH, 10), numpy.float64)\n",
    "    Y_batch[range(Y_batch.shape[0]), Y_train[sample]] = 1\n",
    "\n",
    "    X_batch = X_train[sample]\n",
    "\n",
    "\n",
    "    dot1 = X_batch @ w1\n",
    "    sum1 = dot1 + b1\n",
    "    act1 = 1 / (numpy.exp(-sum1) + 1)\n",
    "\n",
    "    dot2 = act1 @ w2\n",
    "    sum2 = dot2 + b2\n",
    "    act2 = 1 / (numpy.exp(-sum2) + 1)\n",
    "\n",
    "\n",
    "    de_dact2 = (2 * (act2 - Y_batch)) / act2.shape[0]\n",
    "\n",
    "    dact2_dsum2 = numpy.exp(-sum2) / ((numpy.exp(-sum2) + 1) ** 2)\n",
    "    de_dsum2 = de_dact2 * dact2_dsum2\n",
    "\n",
    "    dsum2_db2 = numpy.ones(b2.shape)\n",
    "    de_db2 = de_dsum2 * dsum2_db2\n",
    "\n",
    "    dsum2_ddot2 = numpy.ones(dot2.shape)\n",
    "    de_ddot2 = de_dsum2 * dsum2_ddot2\n",
    "\n",
    "    ddot2_dw2 = act1\n",
    "    de_dw2 = de_ddot2.T @ ddot2_dw2\n",
    "\n",
    "\n",
    "    ddot2_dact1 = w2\n",
    "    de_dact1 = de_ddot2 @ ddot2_dact1.T\n",
    "\n",
    "    dact1_dsum1 = numpy.exp(-sum1) / ((numpy.exp(-sum1) + 1) ** 2)\n",
    "    de_dsum1 = de_dact1 * dact1_dsum1\n",
    "\n",
    "    dsum1_db1 = numpy.ones(b1.shape)\n",
    "    de_db1 = de_dsum1 * dsum1_db1\n",
    "\n",
    "    dsum1_ddot1 = numpy.ones(dot1.shape)\n",
    "    de_ddot1 = de_dsum1 * dsum1_ddot1\n",
    "\n",
    "    ddot1_dw1 = X_batch\n",
    "    de_dw1 = de_ddot1.T @ ddot1_dw1\n",
    "\n",
    "\n",
    "    b2 -= (numpy.sum(de_dsum2) * ALPHA)\n",
    "    w2 -= (de_dw2.T * ALPHA)\n",
    "\n",
    "    b1 -= (numpy.sum(de_dsum1) * ALPHA)\n",
    "    w1 -= (de_dw1.T * ALPHA)"
   ]
  },
  {
   "cell_type": "code",
   "execution_count": 20,
   "id": "358b87f3",
   "metadata": {},
   "outputs": [
    {
     "name": "stdout",
     "output_type": "stream",
     "text": [
      "Accuracy: 0.9183\n"
     ]
    }
   ],
   "source": [
    "X_test = X_test.reshape((-1, 28*28))\n",
    "\n",
    "dot1 = X_test @ w1\n",
    "sum1 = dot1 + b1\n",
    "act1 = 1 / (numpy.exp(-sum1) + 1)\n",
    "\n",
    "dot2 = act1 @ w2\n",
    "sum2 = dot2 + b2\n",
    "act2 = 1 / (numpy.exp(-sum2) + 1)\n",
    "\n",
    "test_acc=(numpy.argmax(act2, axis = 1)==Y_test).mean().item()\n",
    "print(f\"Accuracy: {test_acc:.4f}\")"
   ]
  }
 ],
 "metadata": {
  "kernelspec": {
   "display_name": "Python 3 (ipykernel)",
   "language": "python",
   "name": "python3"
  },
  "language_info": {
   "codemirror_mode": {
    "name": "ipython",
    "version": 3
   },
   "file_extension": ".py",
   "mimetype": "text/x-python",
   "name": "python",
   "nbconvert_exporter": "python",
   "pygments_lexer": "ipython3",
   "version": "3.10.4"
  }
 },
 "nbformat": 4,
 "nbformat_minor": 5
}
