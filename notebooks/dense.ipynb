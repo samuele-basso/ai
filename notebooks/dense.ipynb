{
 "cells": [
  {
   "cell_type": "code",
   "execution_count": 1,
   "id": "7df15fd3",
   "metadata": {},
   "outputs": [],
   "source": [
    "import numpy\n",
    "from tensorflow import keras\n",
    "from tensorflow.keras import layers"
   ]
  },
  {
   "cell_type": "code",
   "execution_count": 2,
   "id": "fa3896ed",
   "metadata": {},
   "outputs": [],
   "source": [
    "num_classes = 10\n",
    "input_shape = (28, 28, 1)"
   ]
  },
  {
   "cell_type": "code",
   "execution_count": 3,
   "id": "a291b9b7",
   "metadata": {
    "scrolled": true
   },
   "outputs": [
    {
     "name": "stdout",
     "output_type": "stream",
     "text": [
      "x_train shape: (60000, 28, 28, 1)\n",
      "60000 train samples\n",
      "10000 test samples\n"
     ]
    }
   ],
   "source": [
    "(x_train, y_train), (x_test, y_test) = keras.datasets.mnist.load_data()\n",
    "\n",
    "x_train = x_train.astype(\"float32\") / 255\n",
    "x_test = x_test.astype(\"float32\") / 255\n",
    "\n",
    "x_train = numpy.expand_dims(x_train, -1)\n",
    "x_test = numpy.expand_dims(x_test, -1)\n",
    "print(\"x_train shape:\", x_train.shape)\n",
    "print(x_train.shape[0], \"train samples\")\n",
    "print(x_test.shape[0], \"test samples\")"
   ]
  },
  {
   "cell_type": "code",
   "execution_count": 12,
   "id": "0b5588ad",
   "metadata": {},
   "outputs": [],
   "source": [
    "# convert class vectors to binary class matrices\n",
    "y_train = keras.utils.to_categorical(y_train, num_classes)\n",
    "y_test = keras.utils.to_categorical(y_test, num_classes)"
   ]
  },
  {
   "cell_type": "code",
   "execution_count": 7,
   "id": "3d027c78",
   "metadata": {},
   "outputs": [
    {
     "name": "stdout",
     "output_type": "stream",
     "text": [
      "Model: \"sequential\"\n",
      "_________________________________________________________________\n",
      " Layer (type)                Output Shape              Param #   \n",
      "=================================================================\n",
      " flatten (Flatten)           (None, 784)               0         \n",
      "                                                                 \n",
      " dense (Dense)               (None, 128)               100480    \n",
      "                                                                 \n",
      " dense_1 (Dense)             (None, 10)                1290      \n",
      "                                                                 \n",
      "=================================================================\n",
      "Total params: 101,770\n",
      "Trainable params: 101,770\n",
      "Non-trainable params: 0\n",
      "_________________________________________________________________\n",
      "Epoch 1/25\n",
      "422/422 [==============================] - 2s 3ms/step - loss: 1.8385 - accuracy: 0.7147 - val_loss: 1.4716 - val_accuracy: 0.7920\n",
      "Epoch 2/25\n",
      "422/422 [==============================] - 1s 3ms/step - loss: 1.2773 - accuracy: 0.7755 - val_loss: 1.0637 - val_accuracy: 0.8050\n",
      "Epoch 3/25\n",
      "422/422 [==============================] - 1s 3ms/step - loss: 0.9584 - accuracy: 0.7864 - val_loss: 0.8174 - val_accuracy: 0.7993\n",
      "Epoch 4/25\n",
      "422/422 [==============================] - 1s 3ms/step - loss: 0.7730 - accuracy: 0.7880 - val_loss: 0.6790 - val_accuracy: 0.8040\n",
      "Epoch 5/25\n",
      "422/422 [==============================] - 1s 3ms/step - loss: 0.6658 - accuracy: 0.7947 - val_loss: 0.5980 - val_accuracy: 0.8137\n",
      "Epoch 6/25\n",
      "422/422 [==============================] - 1s 3ms/step - loss: 0.5995 - accuracy: 0.8044 - val_loss: 0.5448 - val_accuracy: 0.8472\n",
      "Epoch 7/25\n",
      "422/422 [==============================] - 1s 3ms/step - loss: 0.5552 - accuracy: 0.8167 - val_loss: 0.5080 - val_accuracy: 0.8373\n",
      "Epoch 8/25\n",
      "422/422 [==============================] - 1s 3ms/step - loss: 0.5154 - accuracy: 0.8334 - val_loss: 0.4634 - val_accuracy: 0.8580\n",
      "Epoch 9/25\n",
      "422/422 [==============================] - 1s 3ms/step - loss: 0.4692 - accuracy: 0.8539 - val_loss: 0.4143 - val_accuracy: 0.8732\n",
      "Epoch 10/25\n",
      "422/422 [==============================] - 1s 3ms/step - loss: 0.4294 - accuracy: 0.8636 - val_loss: 0.3852 - val_accuracy: 0.8802\n",
      "Epoch 11/25\n",
      "422/422 [==============================] - 1s 3ms/step - loss: 0.4018 - accuracy: 0.8688 - val_loss: 0.3610 - val_accuracy: 0.8842\n",
      "Epoch 12/25\n",
      "422/422 [==============================] - 1s 3ms/step - loss: 0.3822 - accuracy: 0.8749 - val_loss: 0.3498 - val_accuracy: 0.8823\n",
      "Epoch 13/25\n",
      "422/422 [==============================] - 1s 3ms/step - loss: 0.3685 - accuracy: 0.8769 - val_loss: 0.3349 - val_accuracy: 0.8875\n",
      "Epoch 14/25\n",
      "422/422 [==============================] - 1s 3ms/step - loss: 0.3574 - accuracy: 0.8823 - val_loss: 0.3287 - val_accuracy: 0.8907\n",
      "Epoch 15/25\n",
      "422/422 [==============================] - 1s 3ms/step - loss: 0.3469 - accuracy: 0.8875 - val_loss: 0.3205 - val_accuracy: 0.8990\n",
      "Epoch 16/25\n",
      "422/422 [==============================] - 1s 3ms/step - loss: 0.3364 - accuracy: 0.8947 - val_loss: 0.3122 - val_accuracy: 0.9032\n",
      "Epoch 17/25\n",
      "422/422 [==============================] - 1s 3ms/step - loss: 0.3263 - accuracy: 0.9021 - val_loss: 0.3035 - val_accuracy: 0.9143\n",
      "Epoch 18/25\n",
      "422/422 [==============================] - 1s 3ms/step - loss: 0.3152 - accuracy: 0.9109 - val_loss: 0.2919 - val_accuracy: 0.9192\n",
      "Epoch 19/25\n",
      "422/422 [==============================] - 1s 3ms/step - loss: 0.3054 - accuracy: 0.9168 - val_loss: 0.2796 - val_accuracy: 0.9233\n",
      "Epoch 20/25\n",
      "422/422 [==============================] - 1s 3ms/step - loss: 0.2948 - accuracy: 0.9201 - val_loss: 0.2709 - val_accuracy: 0.9293\n",
      "Epoch 21/25\n",
      "422/422 [==============================] - 1s 3ms/step - loss: 0.2836 - accuracy: 0.9236 - val_loss: 0.2617 - val_accuracy: 0.9308\n",
      "Epoch 22/25\n",
      "422/422 [==============================] - 1s 3ms/step - loss: 0.2734 - accuracy: 0.9276 - val_loss: 0.2595 - val_accuracy: 0.9308\n",
      "Epoch 23/25\n",
      "422/422 [==============================] - 1s 3ms/step - loss: 0.2627 - accuracy: 0.9312 - val_loss: 0.2425 - val_accuracy: 0.9387\n",
      "Epoch 24/25\n",
      "422/422 [==============================] - 1s 3ms/step - loss: 0.2495 - accuracy: 0.9354 - val_loss: 0.2309 - val_accuracy: 0.9442\n",
      "Epoch 25/25\n",
      "422/422 [==============================] - 1s 3ms/step - loss: 0.2380 - accuracy: 0.9390 - val_loss: 0.2231 - val_accuracy: 0.9453\n",
      "Test loss: 0.26516199111938477\n",
      "Test accuracy: 0.9302999973297119\n"
     ]
    }
   ],
   "source": [
    "model = keras.Sequential(\n",
    "    [\n",
    "        keras.Input(shape=input_shape),\n",
    "        layers.Flatten(),\n",
    "        layers.Dense(128, activation=\"softmax\"),\n",
    "        layers.Dense(num_classes, activation=\"softmax\")\n",
    "    ]\n",
    ")\n",
    "\n",
    "model.summary()\n",
    "\n",
    "batch_size = 128\n",
    "epochs = 25\n",
    "\n",
    "model.compile(loss=\"categorical_crossentropy\", optimizer=\"adam\", metrics=[\"accuracy\"])\n",
    "\n",
    "model.fit(x_train, y_train, batch_size=batch_size, epochs=epochs, validation_split=0.1)\n",
    "\n",
    "score = model.evaluate(x_test, y_test, verbose=0)\n",
    "\n",
    "print(\"Test loss:\", score[0])\n",
    "print(\"Test accuracy:\", score[1])"
   ]
  }
 ],
 "metadata": {
  "kernelspec": {
   "display_name": "Python 3 (ipykernel)",
   "language": "python",
   "name": "python3"
  },
  "language_info": {
   "codemirror_mode": {
    "name": "ipython",
    "version": 3
   },
   "file_extension": ".py",
   "mimetype": "text/x-python",
   "name": "python",
   "nbconvert_exporter": "python",
   "pygments_lexer": "ipython3",
   "version": "3.10.4"
  }
 },
 "nbformat": 4,
 "nbformat_minor": 5
}
